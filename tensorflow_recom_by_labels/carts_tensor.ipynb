{
 "cells": [
  {
   "cell_type": "code",
   "execution_count": 2,
   "id": "a2d50858",
   "metadata": {},
   "outputs": [
    {
     "name": "stderr",
     "output_type": "stream",
     "text": [
      "2022-12-02 15:39:57.485744: I tensorflow/core/platform/cpu_feature_guard.cc:193] This TensorFlow binary is optimized with oneAPI Deep Neural Network Library (oneDNN) to use the following CPU instructions in performance-critical operations:  AVX2 FMA\n",
      "To enable them in other operations, rebuild TensorFlow with the appropriate compiler flags.\n",
      "2022-12-02 15:39:57.741182: W tensorflow/compiler/xla/stream_executor/platform/default/dso_loader.cc:64] Could not load dynamic library 'libcudart.so.11.0'; dlerror: libcudart.so.11.0: cannot open shared object file: No such file or directory\n",
      "2022-12-02 15:39:57.741223: I tensorflow/compiler/xla/stream_executor/cuda/cudart_stub.cc:29] Ignore above cudart dlerror if you do not have a GPU set up on your machine.\n",
      "2022-12-02 15:39:58.315768: W tensorflow/compiler/xla/stream_executor/platform/default/dso_loader.cc:64] Could not load dynamic library 'libnvinfer.so.7'; dlerror: libnvinfer.so.7: cannot open shared object file: No such file or directory\n",
      "2022-12-02 15:39:58.315861: W tensorflow/compiler/xla/stream_executor/platform/default/dso_loader.cc:64] Could not load dynamic library 'libnvinfer_plugin.so.7'; dlerror: libnvinfer_plugin.so.7: cannot open shared object file: No such file or directory\n",
      "2022-12-02 15:39:58.315869: W tensorflow/compiler/tf2tensorrt/utils/py_utils.cc:38] TF-TRT Warning: Cannot dlopen some TensorRT libraries. If you would like to use Nvidia GPU with TensorRT, please make sure the missing libraries mentioned above are installed properly.\n"
     ]
    }
   ],
   "source": [
    "from typing import Dict, Text\n",
    "\n",
    "import numpy as np\n",
    "import pandas as pd\n",
    "\n",
    "import tensorflow as tf\n",
    "import tensorflow_recommenders as tfrs"
   ]
  },
  {
   "cell_type": "code",
   "execution_count": 5,
   "id": "2119e2b1",
   "metadata": {},
   "outputs": [
    {
     "data": {
      "text/plain": [
       "array(['2013 GD PARFUME F200 ML EVIDENCE',\n",
       "       '25 LINGETTES DEFROISSANTES SV', 'AB SVA BRUM EXPR CORP FL150ML',\n",
       "       \"AB SVA JAMBES D'ETE  T75 INTER\", 'AB SVA Soin Lift Vis T50 INTER'],\n",
       "      dtype=object)"
      ]
     },
     "execution_count": 5,
     "metadata": {},
     "output_type": "execute_result"
    }
   ],
   "source": [
    "#carts_df = pd.read_csv('../cart_clustering/all_carts.csv')\n",
    "carts_df = pd.read_csv('carts_df.csv')\n",
    "all_libelles = np.unique(carts_df['LIBELLE'])\n",
    "all_libelles[:5]"
   ]
  },
  {
   "cell_type": "code",
   "execution_count": 6,
   "id": "df250eca",
   "metadata": {},
   "outputs": [],
   "source": [
    "# creating the dataframe for unique liblles\n",
    "libelles_df = pd.DataFrame(data = all_libelles,columns = ['item_libelle'])\n",
    "libelles_df.to_csv('libelles_df.csv')"
   ]
  },
  {
   "cell_type": "code",
   "execution_count": 7,
   "id": "5fcbdb83",
   "metadata": {},
   "outputs": [
    {
     "name": "stderr",
     "output_type": "stream",
     "text": [
      "2022-12-02 15:40:35.292753: W tensorflow/compiler/xla/stream_executor/platform/default/dso_loader.cc:64] Could not load dynamic library 'libcuda.so.1'; dlerror: libcuda.so.1: cannot open shared object file: No such file or directory\n",
      "2022-12-02 15:40:35.292809: W tensorflow/compiler/xla/stream_executor/cuda/cuda_driver.cc:265] failed call to cuInit: UNKNOWN ERROR (303)\n",
      "2022-12-02 15:40:35.292856: I tensorflow/compiler/xla/stream_executor/cuda/cuda_diagnostics.cc:156] kernel driver does not appear to be running on this host (LAPTOP-IEIC9MD2): /proc/driver/nvidia/version does not exist\n",
      "2022-12-02 15:40:35.294167: I tensorflow/core/platform/cpu_feature_guard.cc:193] This TensorFlow binary is optimized with oneAPI Deep Neural Network Library (oneDNN) to use the following CPU instructions in performance-critical operations:  AVX2 FMA\n",
      "To enable them in other operations, rebuild TensorFlow with the appropriate compiler flags.\n"
     ]
    }
   ],
   "source": [
    "carts = tf.data.experimental.make_csv_dataset('carts_df.csv', batch_size=2)\n",
    "items = tf.data.experimental.make_csv_dataset('libelles_df.csv', batch_size=2)"
   ]
  },
  {
   "cell_type": "code",
   "execution_count": 8,
   "id": "75d2c8b6",
   "metadata": {},
   "outputs": [
    {
     "name": "stdout",
     "output_type": "stream",
     "text": [
      "OrderedDict([('', <tf.Tensor: shape=(2,), dtype=int32, numpy=array([188, 175], dtype=int32)>), ('item_libelle', <tf.Tensor: shape=(2,), dtype=string, numpy=\n",
      "array([b'LE PARFUM   EVIDENCE  VAPO 30ML', b'HYDRA LAIT DEMAQ FL200ML'],\n",
      "      dtype=object)>)])\n",
      "OrderedDict([('', <tf.Tensor: shape=(2,), dtype=int32, numpy=array([194, 121], dtype=int32)>), ('item_libelle', <tf.Tensor: shape=(2,), dtype=string, numpy=\n",
      "array([b'MASC VOLUME BRUN CN3 2009 5ML', b'FRAICHEUR SH DCHE CHEVREF 200'],\n",
      "      dtype=object)>)])\n",
      "OrderedDict([('', <tf.Tensor: shape=(2,), dtype=int32, numpy=array([ 56, 199], dtype=int32)>), ('item_libelle', <tf.Tensor: shape=(2,), dtype=string, numpy=\n",
      "array([b'CRAY KHOL NOIR 81 LUM4 1,3gr', b'MASCARA LONG NOIR 01 CN3 8ML'],\n",
      "      dtype=object)>)])\n",
      "OrderedDict([('', <tf.Tensor: shape=(2,), dtype=int32, numpy=array([99, 64], dtype=int32)>), ('item_libelle', <tf.Tensor: shape=(2,), dtype=string, numpy=array([b'EDT PN2 PECHE 20ML', b'CUBE DE BAIN MURE PN2 20G'], dtype=object)>)])\n",
      "OrderedDict([('', <tf.Tensor: shape=(2,), dtype=int32, numpy=array([ 53, 182], dtype=int32)>), ('item_libelle', <tf.Tensor: shape=(2,), dtype=string, numpy=\n",
      "array([b'CR JOUR/NUIT PC pot50', b'LAIT DOUCHE TRAD DE HAM FL200ML'],\n",
      "      dtype=object)>)])\n"
     ]
    }
   ],
   "source": [
    "for i in items.take(5):\n",
    "    print(i)"
   ]
  },
  {
   "cell_type": "code",
   "execution_count": 9,
   "id": "f8faf9c7",
   "metadata": {},
   "outputs": [
    {
     "name": "stdout",
     "output_type": "stream",
     "text": [
      "OrderedDict([('', <tf.Tensor: shape=(2,), dtype=int32, numpy=array([226, 278], dtype=int32)>), ('Unnamed: 0.1', <tf.Tensor: shape=(2,), dtype=int32, numpy=array([226, 278], dtype=int32)>), ('Unnamed: 0', <tf.Tensor: shape=(2,), dtype=int32, numpy=array([226, 278], dtype=int32)>), ('TICKET_ID', <tf.Tensor: shape=(2,), dtype=int32, numpy=array([35464394, 33483238], dtype=int32)>), ('LIBELLE', <tf.Tensor: shape=(2,), dtype=string, numpy=\n",
      "array([b'VAO BRILLANCE BRUN PEAU CN3 5.5ml', b'UMAJ GD CERISIERS FL200ML'],\n",
      "      dtype=object)>)])\n",
      "OrderedDict([('', <tf.Tensor: shape=(2,), dtype=int32, numpy=array([441,  84], dtype=int32)>), ('Unnamed: 0.1', <tf.Tensor: shape=(2,), dtype=int32, numpy=array([441,  84], dtype=int32)>), ('Unnamed: 0', <tf.Tensor: shape=(2,), dtype=int32, numpy=array([441,  84], dtype=int32)>), ('TICKET_ID', <tf.Tensor: shape=(2,), dtype=int32, numpy=array([34311187, 33609672], dtype=int32)>), ('LIBELLE', <tf.Tensor: shape=(2,), dtype=string, numpy=\n",
      "array([b'SVC BAUME GRAND FROID pot 50ml', b'GD FL200ML JDM PAMPLEMOUSSE'],\n",
      "      dtype=object)>)])\n",
      "OrderedDict([('', <tf.Tensor: shape=(2,), dtype=int32, numpy=array([234, 259], dtype=int32)>), ('Unnamed: 0.1', <tf.Tensor: shape=(2,), dtype=int32, numpy=array([234, 259], dtype=int32)>), ('Unnamed: 0', <tf.Tensor: shape=(2,), dtype=int32, numpy=array([234, 259], dtype=int32)>), ('TICKET_ID', <tf.Tensor: shape=(2,), dtype=int32, numpy=array([36020415, 35030348], dtype=int32)>), ('LIBELLE', <tf.Tensor: shape=(2,), dtype=string, numpy=\n",
      "array([b'BAUME NOUR LEV FRUITS ROUGES OS14 4G',\n",
      "       b'GD JDM4 CIT VERT FL 200ML'], dtype=object)>)])\n",
      "OrderedDict([('', <tf.Tensor: shape=(2,), dtype=int32, numpy=array([494, 241], dtype=int32)>), ('Unnamed: 0.1', <tf.Tensor: shape=(2,), dtype=int32, numpy=array([494, 241], dtype=int32)>), ('Unnamed: 0', <tf.Tensor: shape=(2,), dtype=int32, numpy=array([494, 241], dtype=int32)>), ('TICKET_ID', <tf.Tensor: shape=(2,), dtype=int32, numpy=array([32972303, 34856724], dtype=int32)>), ('LIBELLE', <tf.Tensor: shape=(2,), dtype=string, numpy=\n",
      "array([b'GLM 300ML CACAO ET FRAMBOISE', b'BD MURE PN2 FL50ML'],\n",
      "      dtype=object)>)])\n",
      "OrderedDict([('', <tf.Tensor: shape=(2,), dtype=int32, numpy=array([137, 125], dtype=int32)>), ('Unnamed: 0.1', <tf.Tensor: shape=(2,), dtype=int32, numpy=array([137, 125], dtype=int32)>), ('Unnamed: 0', <tf.Tensor: shape=(2,), dtype=int32, numpy=array([137, 125], dtype=int32)>), ('TICKET_ID', <tf.Tensor: shape=(2,), dtype=int32, numpy=array([34104461, 34336345], dtype=int32)>), ('LIBELLE', <tf.Tensor: shape=(2,), dtype=string, numpy=\n",
      "array([b'DISSOLVANT FLACON MANUC CN3 100ML', b'MDT SD DES LAGONS 150 ML'],\n",
      "      dtype=object)>)])\n"
     ]
    }
   ],
   "source": [
    "for c in carts.take(5):\n",
    "    print(c)"
   ]
  },
  {
   "cell_type": "code",
   "execution_count": 10,
   "id": "5d8d6d66",
   "metadata": {
    "scrolled": true
   },
   "outputs": [
    {
     "name": "stdout",
     "output_type": "stream",
     "text": [
      "WARNING:tensorflow:From /home/benjyhy/Dev-Lab/DAT_901/DAT901_PY_ENV/lib/python3.8/site-packages/tensorflow/python/autograph/pyct/static_analysis/liveness.py:83: Analyzer.lamba_check (from tensorflow.python.autograph.pyct.static_analysis.liveness) is deprecated and will be removed after 2023-09-23.\n",
      "Instructions for updating:\n",
      "Lambda fuctions will be no more assumed to be used in the statement where they are used, or at least in the same block. https://github.com/tensorflow/tensorflow/issues/56089\n"
     ]
    }
   ],
   "source": [
    "# Select the basic features.\n",
    "carts = carts.map(lambda x: {\"LIBELLE\": x[\"LIBELLE\"], \"TICKET_ID\": x[\"TICKET_ID\"]})\n",
    "items = items.map(lambda x: x[\"item_libelle\"])"
   ]
  },
  {
   "cell_type": "code",
   "execution_count": null,
   "id": "abce3974",
   "metadata": {},
   "outputs": [],
   "source": [
    "# Build vocabularies to converts carts (tickets) ids and libelles into integer indices for embedding layers\n",
    "\n",
    "ticket_ids_vocabulary = tf.keras.layers.IntegerLookup(mask_token=None)\n",
    "ticket_ids_vocabulary.adapt(carts.map(lambda x: x[\"TICKET_ID\"]))"
   ]
  },
  {
   "cell_type": "code",
   "execution_count": null,
   "id": "56416fa2",
   "metadata": {},
   "outputs": [],
   "source": [
    "libelles_vocabulary = tf.keras.layers.StringLookup(mask_token=None)\n",
    "libelles_vocabulary.adapt(items)"
   ]
  }
 ],
 "metadata": {
  "kernelspec": {
   "display_name": "Python 3 (ipykernel)",
   "language": "python",
   "name": "python3"
  },
  "language_info": {
   "codemirror_mode": {
    "name": "ipython",
    "version": 3
   },
   "file_extension": ".py",
   "mimetype": "text/x-python",
   "name": "python",
   "nbconvert_exporter": "python",
   "pygments_lexer": "ipython3",
   "version": "3.8.10"
  }
 },
 "nbformat": 4,
 "nbformat_minor": 5
}
