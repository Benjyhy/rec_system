{
 "cells": [
  {
   "cell_type": "code",
   "execution_count": 1,
   "id": "a2d50858",
   "metadata": {},
   "outputs": [
    {
     "name": "stderr",
     "output_type": "stream",
     "text": [
      "2022-12-06 20:28:07.156617: I tensorflow/core/platform/cpu_feature_guard.cc:193] This TensorFlow binary is optimized with oneAPI Deep Neural Network Library (oneDNN) to use the following CPU instructions in performance-critical operations:  AVX2 FMA\n",
      "To enable them in other operations, rebuild TensorFlow with the appropriate compiler flags.\n",
      "2022-12-06 20:28:07.258275: W tensorflow/compiler/xla/stream_executor/platform/default/dso_loader.cc:64] Could not load dynamic library 'libcudart.so.11.0'; dlerror: libcudart.so.11.0: cannot open shared object file: No such file or directory\n",
      "2022-12-06 20:28:07.258294: I tensorflow/compiler/xla/stream_executor/cuda/cudart_stub.cc:29] Ignore above cudart dlerror if you do not have a GPU set up on your machine.\n",
      "2022-12-06 20:28:07.766897: W tensorflow/compiler/xla/stream_executor/platform/default/dso_loader.cc:64] Could not load dynamic library 'libnvinfer.so.7'; dlerror: libnvinfer.so.7: cannot open shared object file: No such file or directory\n",
      "2022-12-06 20:28:07.766974: W tensorflow/compiler/xla/stream_executor/platform/default/dso_loader.cc:64] Could not load dynamic library 'libnvinfer_plugin.so.7'; dlerror: libnvinfer_plugin.so.7: cannot open shared object file: No such file or directory\n",
      "2022-12-06 20:28:07.766981: W tensorflow/compiler/tf2tensorrt/utils/py_utils.cc:38] TF-TRT Warning: Cannot dlopen some TensorRT libraries. If you would like to use Nvidia GPU with TensorRT, please make sure the missing libraries mentioned above are installed properly.\n"
     ]
    }
   ],
   "source": [
    "import numpy as np\n",
    "import pandas as pd\n",
    "import tensorflow as tf\n",
    "from typing import Dict, Text\n",
    "import tensorflow_recommenders as tfrs"
   ]
  },
  {
   "cell_type": "code",
   "execution_count": 2,
   "id": "2119e2b1",
   "metadata": {},
   "outputs": [],
   "source": [
    "carts_df = pd.read_csv('all_carts.csv', index_col=0)\n",
    "items_df = pd.read_csv('all_libelles.csv', index_col=0)"
   ]
  },
  {
   "cell_type": "code",
   "execution_count": 3,
   "id": "9e47c18d",
   "metadata": {},
   "outputs": [],
   "source": [
    "items_df = items_df[:100]\n",
    "carts_df = carts_df[:100]"
   ]
  },
  {
   "cell_type": "code",
   "execution_count": 4,
   "id": "053b0bf2",
   "metadata": {},
   "outputs": [
    {
     "name": "stderr",
     "output_type": "stream",
     "text": [
      "2022-12-06 20:28:11.600989: I tensorflow/compiler/xla/stream_executor/cuda/cuda_gpu_executor.cc:967] could not open file to read NUMA node: /sys/bus/pci/devices/0000:08:00.0/numa_node\n",
      "Your kernel may have been built without NUMA support.\n",
      "2022-12-06 20:28:11.601254: W tensorflow/compiler/xla/stream_executor/platform/default/dso_loader.cc:64] Could not load dynamic library 'libcudart.so.11.0'; dlerror: libcudart.so.11.0: cannot open shared object file: No such file or directory\n",
      "2022-12-06 20:28:11.601302: W tensorflow/compiler/xla/stream_executor/platform/default/dso_loader.cc:64] Could not load dynamic library 'libcublas.so.11'; dlerror: libcublas.so.11: cannot open shared object file: No such file or directory\n",
      "2022-12-06 20:28:11.601335: W tensorflow/compiler/xla/stream_executor/platform/default/dso_loader.cc:64] Could not load dynamic library 'libcublasLt.so.11'; dlerror: libcublasLt.so.11: cannot open shared object file: No such file or directory\n",
      "2022-12-06 20:28:11.601364: W tensorflow/compiler/xla/stream_executor/platform/default/dso_loader.cc:64] Could not load dynamic library 'libcufft.so.10'; dlerror: libcufft.so.10: cannot open shared object file: No such file or directory\n",
      "2022-12-06 20:28:11.601396: W tensorflow/compiler/xla/stream_executor/platform/default/dso_loader.cc:64] Could not load dynamic library 'libcurand.so.10'; dlerror: libcurand.so.10: cannot open shared object file: No such file or directory\n",
      "2022-12-06 20:28:11.601426: W tensorflow/compiler/xla/stream_executor/platform/default/dso_loader.cc:64] Could not load dynamic library 'libcusolver.so.11'; dlerror: libcusolver.so.11: cannot open shared object file: No such file or directory\n",
      "2022-12-06 20:28:11.601455: W tensorflow/compiler/xla/stream_executor/platform/default/dso_loader.cc:64] Could not load dynamic library 'libcusparse.so.11'; dlerror: libcusparse.so.11: cannot open shared object file: No such file or directory\n",
      "2022-12-06 20:28:11.601483: W tensorflow/compiler/xla/stream_executor/platform/default/dso_loader.cc:64] Could not load dynamic library 'libcudnn.so.8'; dlerror: libcudnn.so.8: cannot open shared object file: No such file or directory\n",
      "2022-12-06 20:28:11.601489: W tensorflow/core/common_runtime/gpu/gpu_device.cc:1934] Cannot dlopen some GPU libraries. Please make sure the missing libraries mentioned above are installed properly if you would like to use GPU. Follow the guide at https://www.tensorflow.org/install/gpu for how to download and setup the required libraries for your platform.\n",
      "Skipping registering GPU devices...\n",
      "2022-12-06 20:28:11.602083: I tensorflow/core/platform/cpu_feature_guard.cc:193] This TensorFlow binary is optimized with oneAPI Deep Neural Network Library (oneDNN) to use the following CPU instructions in performance-critical operations:  AVX2 FMA\n",
      "To enable them in other operations, rebuild TensorFlow with the appropriate compiler flags.\n"
     ]
    }
   ],
   "source": [
    "carts = tf.data.Dataset.from_tensor_slices(dict(carts_df))\n",
    "items = tf.data.Dataset.from_tensor_slices(dict(items_df))"
   ]
  },
  {
   "cell_type": "code",
   "execution_count": 5,
   "id": "8b88cd0b",
   "metadata": {},
   "outputs": [
    {
     "name": "stdout",
     "output_type": "stream",
     "text": [
      "WARNING:tensorflow:From /home/benjyhy/Dev-Lab/DAT_901/DAT_901_PY_ENV/lib/python3.10/site-packages/tensorflow/python/autograph/pyct/static_analysis/liveness.py:83: Analyzer.lamba_check (from tensorflow.python.autograph.pyct.static_analysis.liveness) is deprecated and will be removed after 2023-09-23.\n",
      "Instructions for updating:\n",
      "Lambda fuctions will be no more assumed to be used in the statement where they are used, or at least in the same block. https://github.com/tensorflow/tensorflow/issues/56089\n"
     ]
    }
   ],
   "source": [
    "carts_values = carts.map(lambda x:{'LIBELLE':x['LIBELLE'],'TICKET_ID':x['TICKET_ID']})\n",
    "items_values = items.map(lambda x: x['LIBELLE'])"
   ]
  },
  {
   "cell_type": "code",
   "execution_count": 6,
   "id": "dc307aa7",
   "metadata": {},
   "outputs": [],
   "source": [
    "cart_map = carts.map(lambda x: x['TICKET_ID'])\n",
    "item_map = items.map(lambda x: x['LIBELLE'])"
   ]
  },
  {
   "cell_type": "code",
   "execution_count": 7,
   "id": "df250eca",
   "metadata": {},
   "outputs": [],
   "source": [
    "cart_id_vocabulary = tf.keras.layers.experimental.preprocessing.IntegerLookup(mask_token=None)\n",
    "cart_id_vocabulary.adapt(cart_map)"
   ]
  },
  {
   "cell_type": "code",
   "execution_count": 8,
   "id": "5fcbdb83",
   "metadata": {},
   "outputs": [],
   "source": [
    "libelles_vocabulary = tf.keras.layers.experimental.preprocessing.StringLookup(mask_token=None)\n",
    "libelles_vocabulary.adapt(item_map)"
   ]
  },
  {
   "cell_type": "code",
   "execution_count": 10,
   "id": "75d2c8b6",
   "metadata": {},
   "outputs": [],
   "source": [
    "class LibelleRecModel(tfrs.Model):\n",
    " \n",
    "    def __init__(self,cart_model: tf.keras.Model,libelle_model: tf.keras.Model,task: tfrs.tasks.Retrieval):\n",
    "        super().__init__()\n",
    "        # Set up user and movie representations.\n",
    "        self.cart_model = cart_model\n",
    "        self.libelle_model = libelle_model\n",
    "        # Set up a retrieval task.\n",
    "        self.task = task\n",
    " \n",
    "    def compute_loss(self, features: Dict[Text, tf.Tensor], training=False) -> tf.Tensor:\n",
    "        # Define how the loss is computed.\n",
    "        cart_embeddings = self.cart_model(features[\"TICKET_ID\"])\n",
    "        libelle_embeddings = self.libelle_model(features[\"LIBELLE\"])\n",
    "        return self.task(cart_embeddings, libelle_embeddings)"
   ]
  },
  {
   "cell_type": "code",
   "execution_count": 11,
   "id": "f8faf9c7",
   "metadata": {},
   "outputs": [
    {
     "name": "stdout",
     "output_type": "stream",
     "text": [
      "WARNING:tensorflow:vocab_size is deprecated, please use vocabulary_size.\n",
      "WARNING:tensorflow:vocab_size is deprecated, please use vocabulary_size.\n"
     ]
    }
   ],
   "source": [
    "carts_model = tf.keras.Sequential([cart_id_vocabulary,tf.keras.layers.Embedding(cart_id_vocabulary.vocab_size(),64)])\n",
    "libelles_model = tf.keras.Sequential([libelles_vocabulary,tf.keras.layers.Embedding(libelles_vocabulary.vocab_size(),64)])\n",
    " \n",
    "task = tfrs.tasks.Retrieval(metrics=tfrs.metrics.FactorizedTopK(items_values.batch(128).map(libelles_model)))"
   ]
  },
  {
   "cell_type": "code",
   "execution_count": 12,
   "id": "3971ac8f",
   "metadata": {},
   "outputs": [
    {
     "name": "stdout",
     "output_type": "stream",
     "text": [
      "Epoch 1/3\n",
      "1/1 [==============================] - 1s 1s/step - factorized_top_k/top_1_categorical_accuracy: 0.0000e+00 - factorized_top_k/top_5_categorical_accuracy: 0.0000e+00 - factorized_top_k/top_10_categorical_accuracy: 0.0000e+00 - factorized_top_k/top_50_categorical_accuracy: 0.7800 - factorized_top_k/top_100_categorical_accuracy: 1.0000 - loss: 460.4654 - regularization_loss: 0.0000e+00 - total_loss: 460.4654\n",
      "Epoch 2/3\n",
      "1/1 [==============================] - 0s 37ms/step - factorized_top_k/top_1_categorical_accuracy: 0.0000e+00 - factorized_top_k/top_5_categorical_accuracy: 0.0600 - factorized_top_k/top_10_categorical_accuracy: 0.2600 - factorized_top_k/top_50_categorical_accuracy: 1.0000 - factorized_top_k/top_100_categorical_accuracy: 1.0000 - loss: 441.6501 - regularization_loss: 0.0000e+00 - total_loss: 441.6501\n",
      "Epoch 3/3\n",
      "1/1 [==============================] - 0s 37ms/step - factorized_top_k/top_1_categorical_accuracy: 0.0000e+00 - factorized_top_k/top_5_categorical_accuracy: 0.4200 - factorized_top_k/top_10_categorical_accuracy: 0.9700 - factorized_top_k/top_50_categorical_accuracy: 1.0000 - factorized_top_k/top_100_categorical_accuracy: 1.0000 - loss: 275.4665 - regularization_loss: 0.0000e+00 - total_loss: 275.4665\n"
     ]
    },
    {
     "data": {
      "text/plain": [
       "<keras.callbacks.History at 0x7f9e1836fdc0>"
      ]
     },
     "execution_count": 12,
     "metadata": {},
     "output_type": "execute_result"
    }
   ],
   "source": [
    "model = LibelleRecModel(carts_model,libelles_model,task)\n",
    "model.compile(optimizer=tf.keras.optimizers.Adagrad(0.5))\n",
    "model.fit(carts_values.batch(4096), epochs=3)"
   ]
  },
  {
   "cell_type": "code",
   "execution_count": 13,
   "id": "5d8d6d66",
   "metadata": {
    "scrolled": true
   },
   "outputs": [
    {
     "data": {
      "text/plain": [
       "<tensorflow_recommenders.layers.factorized_top_k.BruteForce at 0x7f9e1831fa60>"
      ]
     },
     "execution_count": 13,
     "metadata": {},
     "output_type": "execute_result"
    }
   ],
   "source": [
    "recommends = tfrs.layers.factorized_top_k.BruteForce(model.cart_model)\n",
    "recommends.index_from_dataset(items_values.batch(100).map(lambda libelle: (libelle, model.libelle_model(libelle))))"
   ]
  },
  {
   "cell_type": "code",
   "execution_count": 14,
   "id": "abce3974",
   "metadata": {},
   "outputs": [
    {
     "name": "stdout",
     "output_type": "stream",
     "text": [
      "Enter the cart_id: 35592159\n",
      "Top recommendation for cart 35592159 tf.Tensor(\n",
      "[b'CR JR PARF BIO.SPE AC.SENT.50ML' b'EAU MICELLAIRE 3 THES FL200ML'\n",
      " b'GD JDM4 TIARE FL 200ML'], shape=(3,), dtype=string)\n"
     ]
    }
   ],
   "source": [
    "id_ = input('Enter the cart_id: ')\n",
    "_, libelles = recommends(np.array([int(id_)]))\n",
    "print('Top recommendation for cart',id_,libelles[0, :3])"
   ]
  }
 ],
 "metadata": {
  "kernelspec": {
   "display_name": "Python 3 (ipykernel)",
   "language": "python",
   "name": "python3"
  },
  "language_info": {
   "codemirror_mode": {
    "name": "ipython",
    "version": 3
   },
   "file_extension": ".py",
   "mimetype": "text/x-python",
   "name": "python",
   "nbconvert_exporter": "python",
   "pygments_lexer": "ipython3",
   "version": "3.10.6"
  }
 },
 "nbformat": 4,
 "nbformat_minor": 5
}
