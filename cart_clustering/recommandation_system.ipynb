{
 "cells": [
  {
   "cell_type": "code",
   "execution_count": 21,
   "id": "48cc0f51",
   "metadata": {},
   "outputs": [
    {
     "name": "stdout",
     "output_type": "stream",
     "text": [
      "Pandas version:  1.5.0\n",
      "NumPy version:  1.23.4\n",
      "Pickle version:  4.0\n"
     ]
    }
   ],
   "source": [
    "# Import all necessary libraries\n",
    "import pandas as pd\n",
    "print('Pandas version: ', pd.__version__)\n",
    "import numpy as np\n",
    "print('NumPy version: ', np.__version__)\n",
    "import pickle\n",
    "print('Pickle version: ', pickle.format_version)\n",
    "from sklearn.feature_extraction.text import CountVectorizer"
   ]
  },
  {
   "cell_type": "code",
   "execution_count": 13,
   "id": "60f13275",
   "metadata": {},
   "outputs": [],
   "source": [
    "carts = pd.read_csv('all_carts_encoded.csv')\n",
    "tickets = np.unique(carts['TICKET_ID'])[:10000]"
   ]
  },
  {
   "cell_type": "code",
   "execution_count": 31,
   "id": "d508de41",
   "metadata": {},
   "outputs": [],
   "source": [
    "model = pickle.load(open(f'models/kmeans/0.pkl', 'rb'))\n",
    "clusters = model.labels_"
   ]
  },
  {
   "cell_type": "code",
   "execution_count": 23,
   "id": "2aae80d7",
   "metadata": {},
   "outputs": [],
   "source": [
    "tickets_items_list = pickle.load(open('items_list_for_ticket.txt', 'rb'))\n",
    "def prepSparseMatrix(list_of_str):\n",
    "    cv = CountVectorizer(token_pattern = r'[^\\,\\ ]+', lowercase = False)\n",
    "    sparseMatrix = cv.fit_transform(list_of_str)\n",
    "    return sparseMatrix, cv.get_feature_names_out()\n",
    "sparseMatrix, feature_names = prepSparseMatrix(tickets_items_list[:10000])\n",
    "df_sparseMatrix = pd.DataFrame.sparse.from_spmatrix(sparseMatrix, index = tickets, columns = feature_names)"
   ]
  },
  {
   "cell_type": "code",
   "execution_count": 11,
   "id": "587975dd",
   "metadata": {},
   "outputs": [
    {
     "data": {
      "text/html": [
       "<div>\n",
       "<style scoped>\n",
       "    .dataframe tbody tr th:only-of-type {\n",
       "        vertical-align: middle;\n",
       "    }\n",
       "\n",
       "    .dataframe tbody tr th {\n",
       "        vertical-align: top;\n",
       "    }\n",
       "\n",
       "    .dataframe thead th {\n",
       "        text-align: right;\n",
       "    }\n",
       "</style>\n",
       "<table border=\"1\" class=\"dataframe\">\n",
       "  <thead>\n",
       "    <tr style=\"text-align: right;\">\n",
       "      <th></th>\n",
       "      <th>0</th>\n",
       "      <th>1</th>\n",
       "      <th>2</th>\n",
       "      <th>3</th>\n",
       "      <th>4</th>\n",
       "      <th>5</th>\n",
       "      <th>6</th>\n",
       "      <th>7</th>\n",
       "      <th>8</th>\n",
       "      <th>9</th>\n",
       "      <th>...</th>\n",
       "      <th>9990</th>\n",
       "      <th>9991</th>\n",
       "      <th>9992</th>\n",
       "      <th>9993</th>\n",
       "      <th>9994</th>\n",
       "      <th>9995</th>\n",
       "      <th>9996</th>\n",
       "      <th>9997</th>\n",
       "      <th>9998</th>\n",
       "      <th>9999</th>\n",
       "    </tr>\n",
       "  </thead>\n",
       "  <tbody>\n",
       "    <tr>\n",
       "      <th>TICKET_ID</th>\n",
       "      <td>32931447</td>\n",
       "      <td>32931448</td>\n",
       "      <td>32931451</td>\n",
       "      <td>32931452</td>\n",
       "      <td>32931453</td>\n",
       "      <td>32931454</td>\n",
       "      <td>32931455</td>\n",
       "      <td>32931456</td>\n",
       "      <td>32931461</td>\n",
       "      <td>32931462</td>\n",
       "      <td>...</td>\n",
       "      <td>32945415</td>\n",
       "      <td>32945421</td>\n",
       "      <td>32945423</td>\n",
       "      <td>32945424</td>\n",
       "      <td>32945426</td>\n",
       "      <td>32945430</td>\n",
       "      <td>32945431</td>\n",
       "      <td>32945432</td>\n",
       "      <td>32945434</td>\n",
       "      <td>32945435</td>\n",
       "    </tr>\n",
       "    <tr>\n",
       "      <th>Cluster</th>\n",
       "      <td>0</td>\n",
       "      <td>0</td>\n",
       "      <td>0</td>\n",
       "      <td>0</td>\n",
       "      <td>0</td>\n",
       "      <td>0</td>\n",
       "      <td>0</td>\n",
       "      <td>0</td>\n",
       "      <td>0</td>\n",
       "      <td>3</td>\n",
       "      <td>...</td>\n",
       "      <td>1</td>\n",
       "      <td>0</td>\n",
       "      <td>0</td>\n",
       "      <td>0</td>\n",
       "      <td>2</td>\n",
       "      <td>0</td>\n",
       "      <td>3</td>\n",
       "      <td>0</td>\n",
       "      <td>0</td>\n",
       "      <td>0</td>\n",
       "    </tr>\n",
       "  </tbody>\n",
       "</table>\n",
       "<p>2 rows × 10000 columns</p>\n",
       "</div>"
      ],
      "text/plain": [
       "               0         1         2         3         4         5     \\\n",
       "TICKET_ID  32931447  32931448  32931451  32931452  32931453  32931454   \n",
       "Cluster           0         0         0         0         0         0   \n",
       "\n",
       "               6         7         8         9     ...      9990      9991  \\\n",
       "TICKET_ID  32931455  32931456  32931461  32931462  ...  32945415  32945421   \n",
       "Cluster           0         0         0         3  ...         1         0   \n",
       "\n",
       "               9992      9993      9994      9995      9996      9997  \\\n",
       "TICKET_ID  32945423  32945424  32945426  32945430  32945431  32945432   \n",
       "Cluster           0         0         2         0         3         0   \n",
       "\n",
       "               9998      9999  \n",
       "TICKET_ID  32945434  32945435  \n",
       "Cluster           0         0  \n",
       "\n",
       "[2 rows x 10000 columns]"
      ]
     },
     "execution_count": 11,
     "metadata": {},
     "output_type": "execute_result"
    }
   ],
   "source": [
    "# Display each ticket and its corresponding cluster (need clusters given my fit_transform a model)\n",
    "tickets_cluster = pd.DataFrame(np.concatenate((tickets.reshape(-1,1), clusters.reshape(-1,1)), axis = 1), columns = ['TICKET_ID', 'Cluster'])\n",
    "tickets_cluster.T"
   ]
  },
  {
   "cell_type": "code",
   "execution_count": 14,
   "id": "05e9bc72",
   "metadata": {},
   "outputs": [],
   "source": [
    "# For each cluster, how many times do we find each libelle\n",
    "def clustersLibelles(tickets_cluster, tickets_data):\n",
    "    clusters = list(tickets_cluster['Cluster'])\n",
    "    each_cluster_libelles = list()\n",
    "    for i in range(len(np.unique(clusters))):\n",
    "        tickets_list = list(tickets_cluster[tickets_cluster['Cluster'] == i]['TICKET_ID'])\n",
    "        tickets_libelles_list = list()\n",
    "        for ticket in tickets_list:    \n",
    "            tickets_libelles_list.extend(list(tickets_data[tickets_data['TICKET_ID'] == ticket]['LIBELLE_ENCODED']))\n",
    "        tickets_libelles_counts = list()\n",
    "        tickets_libelles_counts.extend([[libelle, tickets_libelles_list.count(libelle)] for libelle in np.unique(tickets_libelles_list)])\n",
    "        each_cluster_libelles.append(pd.DataFrame(tickets_libelles_counts, columns=['LIBELLE_ENCODED', 'Count']).sort_values(by = ['Count'], ascending = False).reset_index(drop=True))\n",
    "    return each_cluster_libelles\n",
    "\n",
    "cluster_libelles = clustersLibelles(tickets_cluster, carts)"
   ]
  },
  {
   "cell_type": "code",
   "execution_count": 15,
   "id": "9f741277",
   "metadata": {},
   "outputs": [
    {
     "data": {
      "text/html": [
       "<div>\n",
       "<style scoped>\n",
       "    .dataframe tbody tr th:only-of-type {\n",
       "        vertical-align: middle;\n",
       "    }\n",
       "\n",
       "    .dataframe tbody tr th {\n",
       "        vertical-align: top;\n",
       "    }\n",
       "\n",
       "    .dataframe thead th {\n",
       "        text-align: right;\n",
       "    }\n",
       "</style>\n",
       "<table border=\"1\" class=\"dataframe\">\n",
       "  <thead>\n",
       "    <tr style=\"text-align: right;\">\n",
       "      <th></th>\n",
       "      <th>0</th>\n",
       "      <th>1</th>\n",
       "      <th>2</th>\n",
       "      <th>3</th>\n",
       "      <th>4</th>\n",
       "      <th>5</th>\n",
       "      <th>6</th>\n",
       "      <th>7</th>\n",
       "      <th>8</th>\n",
       "      <th>9</th>\n",
       "      <th>...</th>\n",
       "      <th>550</th>\n",
       "      <th>551</th>\n",
       "      <th>552</th>\n",
       "      <th>553</th>\n",
       "      <th>554</th>\n",
       "      <th>555</th>\n",
       "      <th>556</th>\n",
       "      <th>557</th>\n",
       "      <th>558</th>\n",
       "      <th>559</th>\n",
       "    </tr>\n",
       "  </thead>\n",
       "  <tbody>\n",
       "    <tr>\n",
       "      <th>LIBELLE_ENCODED</th>\n",
       "      <td>302</td>\n",
       "      <td>1082</td>\n",
       "      <td>990</td>\n",
       "      <td>1334</td>\n",
       "      <td>336</td>\n",
       "      <td>1305</td>\n",
       "      <td>214</td>\n",
       "      <td>941</td>\n",
       "      <td>57</td>\n",
       "      <td>357</td>\n",
       "      <td>...</td>\n",
       "      <td>746</td>\n",
       "      <td>656</td>\n",
       "      <td>744</td>\n",
       "      <td>710</td>\n",
       "      <td>708</td>\n",
       "      <td>686</td>\n",
       "      <td>674</td>\n",
       "      <td>672</td>\n",
       "      <td>659</td>\n",
       "      <td>1477</td>\n",
       "    </tr>\n",
       "    <tr>\n",
       "      <th>Count</th>\n",
       "      <td>683</td>\n",
       "      <td>44</td>\n",
       "      <td>23</td>\n",
       "      <td>19</td>\n",
       "      <td>18</td>\n",
       "      <td>17</td>\n",
       "      <td>15</td>\n",
       "      <td>13</td>\n",
       "      <td>13</td>\n",
       "      <td>13</td>\n",
       "      <td>...</td>\n",
       "      <td>1</td>\n",
       "      <td>1</td>\n",
       "      <td>1</td>\n",
       "      <td>1</td>\n",
       "      <td>1</td>\n",
       "      <td>1</td>\n",
       "      <td>1</td>\n",
       "      <td>1</td>\n",
       "      <td>1</td>\n",
       "      <td>1</td>\n",
       "    </tr>\n",
       "  </tbody>\n",
       "</table>\n",
       "<p>2 rows × 560 columns</p>\n",
       "</div>"
      ],
      "text/plain": [
       "                 0     1    2     3    4     5    6    7    8    9    ...  \\\n",
       "LIBELLE_ENCODED  302  1082  990  1334  336  1305  214  941   57  357  ...   \n",
       "Count            683    44   23    19   18    17   15   13   13   13  ...   \n",
       "\n",
       "                 550  551  552  553  554  555  556  557  558   559  \n",
       "LIBELLE_ENCODED  746  656  744  710  708  686  674  672  659  1477  \n",
       "Count              1    1    1    1    1    1    1    1    1     1  \n",
       "\n",
       "[2 rows x 560 columns]"
      ]
     },
     "execution_count": 15,
     "metadata": {},
     "output_type": "execute_result"
    }
   ],
   "source": [
    "# For cluster 1, libelle [LIBELLE_ENCODED] is present [Count] times\n",
    "cluster_libelles[1].T"
   ]
  },
  {
   "cell_type": "code",
   "execution_count": 16,
   "id": "660dd41a",
   "metadata": {},
   "outputs": [
    {
     "name": "stdout",
     "output_type": "stream",
     "text": [
      "Tickets in Cluster 0 ->  7874\n",
      "Tickets in Cluster 1 ->  683\n",
      "Tickets in Cluster 2 ->  388\n",
      "Tickets in Cluster 3 ->  750\n",
      "Tickets in Cluster 4 ->  33\n",
      "Tickets in Cluster 5 ->  62\n",
      "Tickets in Cluster 6 ->  41\n",
      "Tickets in Cluster 7 ->  169\n",
      "Total number of tickets : 10000\n"
     ]
    }
   ],
   "source": [
    "# How many different tickets are in each cluster ?\n",
    "# Also check that the sum of the nb of tickets in each cluster == the total number of tickets at start\n",
    "total_nb_tickets = 0\n",
    "for i in range(8):\n",
    "    len_tickets = tickets_cluster[tickets_cluster['Cluster'] == i].shape[0]\n",
    "    total_nb_tickets += len_tickets\n",
    "    print('Tickets in Cluster ' + str(i) + ' -> ', len_tickets) \n",
    "print(f\"Total number of tickets : {total_nb_tickets}\")"
   ]
  },
  {
   "cell_type": "code",
   "execution_count": 17,
   "id": "29802a43",
   "metadata": {},
   "outputs": [
    {
     "data": {
      "text/plain": [
       "array([32946317, 33182830, 33577174, 34015044, 34398198, 34665272,\n",
       "       35017400, 35221068, 35546515, 35703330, 35816290, 35998180,\n",
       "       36061723, 36315860, 36434434])"
      ]
     },
     "execution_count": 17,
     "metadata": {},
     "output_type": "execute_result"
    }
   ],
   "source": [
    "# Get all the tickets belonging to a certain client (by his id)\n",
    "tickets_of_clients = pd.read_csv('KaDo.csv', usecols = ['TICKET_ID', 'CLI_ID'])\n",
    "def tickets_of_a_client(client_id):\n",
    "    tickets_df = tickets_of_clients[tickets_of_clients['CLI_ID'] == client_id]\n",
    "    return tickets_df['TICKET_ID'].unique()    \n",
    "    \n",
    "analyzed_client_tickets = tickets_of_a_client(941958669)\n",
    "analyzed_client_tickets"
   ]
  },
  {
   "cell_type": "code",
   "execution_count": 29,
   "id": "1306e78f",
   "metadata": {},
   "outputs": [
    {
     "data": {
      "text/plain": [
       "[0]"
      ]
     },
     "execution_count": 29,
     "metadata": {},
     "output_type": "execute_result"
    }
   ],
   "source": [
    "# Get all the clusters of a specific client thanks to his former tickets\n",
    "def clusters_of_a_client(tickets):\n",
    "    client_clusters = list()\n",
    "    for ticket_id in tickets:\n",
    "        current_cluster = tickets_cluster[tickets_cluster['TICKET_ID'] == ticket_id]['Cluster'].values[0]\n",
    "        if current_cluster not in client_clusters:\n",
    "            client_clusters.append(current_cluster)\n",
    "    return client_clusters\n",
    "\n",
    "analyzed_client_clusters = clusters_of_a_client(analyzed_client_tickets)\n",
    "analyzed_client_clusters"
   ]
  },
  {
   "cell_type": "code",
   "execution_count": 25,
   "id": "8fc656e3",
   "metadata": {},
   "outputs": [
    {
     "ename": "KeyError",
     "evalue": "32946317",
     "output_type": "error",
     "traceback": [
      "\u001b[0;31m---------------------------------------------------------------------------\u001b[0m",
      "\u001b[0;31mKeyError\u001b[0m                                  Traceback (most recent call last)",
      "File \u001b[0;32m~/Dev-Lab/DAT_901/DAT901_PY_ENV/lib/python3.8/site-packages/pandas/core/indexes/base.py:3800\u001b[0m, in \u001b[0;36mIndex.get_loc\u001b[0;34m(self, key, method, tolerance)\u001b[0m\n\u001b[1;32m   3799\u001b[0m \u001b[39mtry\u001b[39;00m:\n\u001b[0;32m-> 3800\u001b[0m     \u001b[39mreturn\u001b[39;00m \u001b[39mself\u001b[39;49m\u001b[39m.\u001b[39;49m_engine\u001b[39m.\u001b[39;49mget_loc(casted_key)\n\u001b[1;32m   3801\u001b[0m \u001b[39mexcept\u001b[39;00m \u001b[39mKeyError\u001b[39;00m \u001b[39mas\u001b[39;00m err:\n",
      "File \u001b[0;32m~/Dev-Lab/DAT_901/DAT901_PY_ENV/lib/python3.8/site-packages/pandas/_libs/index.pyx:138\u001b[0m, in \u001b[0;36mpandas._libs.index.IndexEngine.get_loc\u001b[0;34m()\u001b[0m\n",
      "File \u001b[0;32m~/Dev-Lab/DAT_901/DAT901_PY_ENV/lib/python3.8/site-packages/pandas/_libs/index.pyx:165\u001b[0m, in \u001b[0;36mpandas._libs.index.IndexEngine.get_loc\u001b[0;34m()\u001b[0m\n",
      "File \u001b[0;32mpandas/_libs/hashtable_class_helper.pxi:2263\u001b[0m, in \u001b[0;36mpandas._libs.hashtable.Int64HashTable.get_item\u001b[0;34m()\u001b[0m\n",
      "File \u001b[0;32mpandas/_libs/hashtable_class_helper.pxi:2273\u001b[0m, in \u001b[0;36mpandas._libs.hashtable.Int64HashTable.get_item\u001b[0;34m()\u001b[0m\n",
      "\u001b[0;31mKeyError\u001b[0m: 32946317",
      "\nThe above exception was the direct cause of the following exception:\n",
      "\u001b[0;31mKeyError\u001b[0m                                  Traceback (most recent call last)",
      "Cell \u001b[0;32mIn [25], line 9\u001b[0m\n\u001b[1;32m      6\u001b[0m             bought_items\u001b[39m.\u001b[39mappend(item_id)\n\u001b[1;32m      7\u001b[0m     \u001b[39mreturn\u001b[39;00m \u001b[39mlist\u001b[39m(\u001b[39mmap\u001b[39m(\u001b[39mint\u001b[39m,bought_items))\n\u001b[0;32m----> 9\u001b[0m analyzed_client_bought_items \u001b[39m=\u001b[39m bought_items(analyzed_client_tickets)\n\u001b[1;32m     10\u001b[0m analyzed_client_bought_items\n",
      "Cell \u001b[0;32mIn [25], line 4\u001b[0m, in \u001b[0;36mbought_items\u001b[0;34m(tickets)\u001b[0m\n\u001b[1;32m      2\u001b[0m bought_items \u001b[39m=\u001b[39m \u001b[39mlist\u001b[39m()\n\u001b[1;32m      3\u001b[0m \u001b[39mfor\u001b[39;00m ticket_id \u001b[39min\u001b[39;00m tickets:\n\u001b[0;32m----> 4\u001b[0m     libelles_serie \u001b[39m=\u001b[39m df_sparseMatrix\u001b[39m.\u001b[39;49mloc[ticket_id]\n\u001b[1;32m      5\u001b[0m     \u001b[39mfor\u001b[39;00m item_id \u001b[39min\u001b[39;00m \u001b[39mlist\u001b[39m(libelles_serie[libelles_serie\u001b[39m==\u001b[39m\u001b[39m1\u001b[39m]\u001b[39m.\u001b[39mindex):\n\u001b[1;32m      6\u001b[0m         bought_items\u001b[39m.\u001b[39mappend(item_id)\n",
      "File \u001b[0;32m~/Dev-Lab/DAT_901/DAT901_PY_ENV/lib/python3.8/site-packages/pandas/core/indexing.py:1074\u001b[0m, in \u001b[0;36m_LocationIndexer.__getitem__\u001b[0;34m(self, key)\u001b[0m\n\u001b[1;32m   1071\u001b[0m axis \u001b[39m=\u001b[39m \u001b[39mself\u001b[39m\u001b[39m.\u001b[39maxis \u001b[39mor\u001b[39;00m \u001b[39m0\u001b[39m\n\u001b[1;32m   1073\u001b[0m maybe_callable \u001b[39m=\u001b[39m com\u001b[39m.\u001b[39mapply_if_callable(key, \u001b[39mself\u001b[39m\u001b[39m.\u001b[39mobj)\n\u001b[0;32m-> 1074\u001b[0m \u001b[39mreturn\u001b[39;00m \u001b[39mself\u001b[39;49m\u001b[39m.\u001b[39;49m_getitem_axis(maybe_callable, axis\u001b[39m=\u001b[39;49maxis)\n",
      "File \u001b[0;32m~/Dev-Lab/DAT_901/DAT901_PY_ENV/lib/python3.8/site-packages/pandas/core/indexing.py:1313\u001b[0m, in \u001b[0;36m_LocIndexer._getitem_axis\u001b[0;34m(self, key, axis)\u001b[0m\n\u001b[1;32m   1311\u001b[0m \u001b[39m# fall thru to straight lookup\u001b[39;00m\n\u001b[1;32m   1312\u001b[0m \u001b[39mself\u001b[39m\u001b[39m.\u001b[39m_validate_key(key, axis)\n\u001b[0;32m-> 1313\u001b[0m \u001b[39mreturn\u001b[39;00m \u001b[39mself\u001b[39;49m\u001b[39m.\u001b[39;49m_get_label(key, axis\u001b[39m=\u001b[39;49maxis)\n",
      "File \u001b[0;32m~/Dev-Lab/DAT_901/DAT901_PY_ENV/lib/python3.8/site-packages/pandas/core/indexing.py:1261\u001b[0m, in \u001b[0;36m_LocIndexer._get_label\u001b[0;34m(self, label, axis)\u001b[0m\n\u001b[1;32m   1259\u001b[0m \u001b[39mdef\u001b[39;00m \u001b[39m_get_label\u001b[39m(\u001b[39mself\u001b[39m, label, axis: \u001b[39mint\u001b[39m):\n\u001b[1;32m   1260\u001b[0m     \u001b[39m# GH#5567 this will fail if the label is not present in the axis.\u001b[39;00m\n\u001b[0;32m-> 1261\u001b[0m     \u001b[39mreturn\u001b[39;00m \u001b[39mself\u001b[39;49m\u001b[39m.\u001b[39;49mobj\u001b[39m.\u001b[39;49mxs(label, axis\u001b[39m=\u001b[39;49maxis)\n",
      "File \u001b[0;32m~/Dev-Lab/DAT_901/DAT901_PY_ENV/lib/python3.8/site-packages/pandas/core/generic.py:4057\u001b[0m, in \u001b[0;36mNDFrame.xs\u001b[0;34m(self, key, axis, level, drop_level)\u001b[0m\n\u001b[1;32m   4055\u001b[0m             new_index \u001b[39m=\u001b[39m index[loc]\n\u001b[1;32m   4056\u001b[0m \u001b[39melse\u001b[39;00m:\n\u001b[0;32m-> 4057\u001b[0m     loc \u001b[39m=\u001b[39m index\u001b[39m.\u001b[39;49mget_loc(key)\n\u001b[1;32m   4059\u001b[0m     \u001b[39mif\u001b[39;00m \u001b[39misinstance\u001b[39m(loc, np\u001b[39m.\u001b[39mndarray):\n\u001b[1;32m   4060\u001b[0m         \u001b[39mif\u001b[39;00m loc\u001b[39m.\u001b[39mdtype \u001b[39m==\u001b[39m np\u001b[39m.\u001b[39mbool_:\n",
      "File \u001b[0;32m~/Dev-Lab/DAT_901/DAT901_PY_ENV/lib/python3.8/site-packages/pandas/core/indexes/base.py:3802\u001b[0m, in \u001b[0;36mIndex.get_loc\u001b[0;34m(self, key, method, tolerance)\u001b[0m\n\u001b[1;32m   3800\u001b[0m     \u001b[39mreturn\u001b[39;00m \u001b[39mself\u001b[39m\u001b[39m.\u001b[39m_engine\u001b[39m.\u001b[39mget_loc(casted_key)\n\u001b[1;32m   3801\u001b[0m \u001b[39mexcept\u001b[39;00m \u001b[39mKeyError\u001b[39;00m \u001b[39mas\u001b[39;00m err:\n\u001b[0;32m-> 3802\u001b[0m     \u001b[39mraise\u001b[39;00m \u001b[39mKeyError\u001b[39;00m(key) \u001b[39mfrom\u001b[39;00m \u001b[39merr\u001b[39;00m\n\u001b[1;32m   3803\u001b[0m \u001b[39mexcept\u001b[39;00m \u001b[39mTypeError\u001b[39;00m:\n\u001b[1;32m   3804\u001b[0m     \u001b[39m# If we have a listlike key, _check_indexing_error will raise\u001b[39;00m\n\u001b[1;32m   3805\u001b[0m     \u001b[39m#  InvalidIndexError. Otherwise we fall through and re-raise\u001b[39;00m\n\u001b[1;32m   3806\u001b[0m     \u001b[39m#  the TypeError.\u001b[39;00m\n\u001b[1;32m   3807\u001b[0m     \u001b[39mself\u001b[39m\u001b[39m.\u001b[39m_check_indexing_error(key)\n",
      "\u001b[0;31mKeyError\u001b[0m: 32946317"
     ]
    }
   ],
   "source": [
    "def bought_items(tickets):\n",
    "    bought_items = list()\n",
    "    for ticket_id in tickets:\n",
    "        libelles_serie = df_sparseMatrix.loc[ticket_id]\n",
    "        for item_id in list(libelles_serie[libelles_serie==1].index):\n",
    "            bought_items.append(item_id)\n",
    "    return list(map(int,bought_items))\n",
    "            \n",
    "analyzed_client_bought_items = bought_items(analyzed_client_tickets)\n",
    "analyzed_client_bought_items"
   ]
  },
  {
   "cell_type": "code",
   "execution_count": 26,
   "id": "2c9aeef4",
   "metadata": {},
   "outputs": [
    {
     "ename": "NameError",
     "evalue": "name 'analyzed_client_clusters' is not defined",
     "output_type": "error",
     "traceback": [
      "\u001b[0;31m---------------------------------------------------------------------------\u001b[0m",
      "\u001b[0;31mNameError\u001b[0m                                 Traceback (most recent call last)",
      "Cell \u001b[0;32mIn [26], line 10\u001b[0m\n\u001b[1;32m      7\u001b[0m                 items_contained_in_clusters\u001b[39m.\u001b[39mappend(item)\n\u001b[1;32m      8\u001b[0m     \u001b[39mreturn\u001b[39;00m items_contained_in_clusters\n\u001b[0;32m---> 10\u001b[0m items_in_clusters \u001b[39m=\u001b[39m items_contained_in_clusters(analyzed_client_clusters)\n\u001b[1;32m     11\u001b[0m items_in_clusters\n",
      "\u001b[0;31mNameError\u001b[0m: name 'analyzed_client_clusters' is not defined"
     ]
    }
   ],
   "source": [
    "def items_contained_in_clusters(clusters):\n",
    "    items_contained_in_clusters = list()\n",
    "    for cluster in clusters:\n",
    "        items = cluster_libelles[cluster][cluster_libelles[cluster]['Count'] > 500]['LIBELLE_ENCODED'].values\n",
    "        for item in items:\n",
    "            if item not in items_contained_in_clusters:\n",
    "                items_contained_in_clusters.append(item)\n",
    "    return items_contained_in_clusters\n",
    "\n",
    "items_in_clusters = items_contained_in_clusters(analyzed_client_clusters)\n",
    "items_in_clusters"
   ]
  },
  {
   "cell_type": "code",
   "execution_count": 27,
   "id": "9feb5186",
   "metadata": {},
   "outputs": [
    {
     "ename": "NameError",
     "evalue": "name 'analyzed_client_bought_items' is not defined",
     "output_type": "error",
     "traceback": [
      "\u001b[0;31m---------------------------------------------------------------------------\u001b[0m",
      "\u001b[0;31mNameError\u001b[0m                                 Traceback (most recent call last)",
      "Cell \u001b[0;32mIn [27], line 8\u001b[0m\n\u001b[1;32m      5\u001b[0m             suggested_items\u001b[39m.\u001b[39mappend(item)\n\u001b[1;32m      6\u001b[0m     \u001b[39mreturn\u001b[39;00m suggested_items\n\u001b[0;32m----> 8\u001b[0m suggested_items \u001b[39m=\u001b[39m items_suggestion(analyzed_client_bought_items, items_in_clusters)\n\u001b[1;32m      9\u001b[0m suggested_items\n",
      "\u001b[0;31mNameError\u001b[0m: name 'analyzed_client_bought_items' is not defined"
     ]
    }
   ],
   "source": [
    "def items_suggestion(bought_items, items_in_clusters):\n",
    "    suggested_items = list()\n",
    "    for item in items_in_clusters:\n",
    "        if item not in bought_items:\n",
    "            suggested_items.append(item)\n",
    "    return suggested_items\n",
    "\n",
    "suggested_items = items_suggestion(analyzed_client_bought_items, items_in_clusters)\n",
    "suggested_items"
   ]
  },
  {
   "cell_type": "code",
   "execution_count": null,
   "id": "484c92de",
   "metadata": {},
   "outputs": [],
   "source": [
    "# Decode labels so we can read the\n",
    "decoded_suggested_items.append(le.inverse_transform(si))\n",
    "decoded_suggested_items"
   ]
  }
 ],
 "metadata": {
  "kernelspec": {
   "display_name": "Python 3.8.10 ('DAT901_PY_ENV': venv)",
   "language": "python",
   "name": "python3"
  },
  "language_info": {
   "codemirror_mode": {
    "name": "ipython",
    "version": 3
   },
   "file_extension": ".py",
   "mimetype": "text/x-python",
   "name": "python",
   "nbconvert_exporter": "python",
   "pygments_lexer": "ipython3",
   "version": "3.8.10"
  },
  "vscode": {
   "interpreter": {
    "hash": "f2bbc82100fde7fc2d8a87e5091fa3806ef12d82e20dc05c820284fcfc1d45c1"
   }
  }
 },
 "nbformat": 4,
 "nbformat_minor": 5
}
